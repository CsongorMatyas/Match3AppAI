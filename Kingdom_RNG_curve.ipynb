{
 "cells": [
  {
   "cell_type": "code",
   "execution_count": 12,
   "metadata": {},
   "outputs": [
    {
     "name": "stdout",
     "output_type": "stream",
     "text": [
      "0   402\n",
      "1   4762\n",
      "2   26819\n",
      "3   100595\n",
      "4   269027\n",
      "5   561310\n",
      "6   940783\n",
      "7   1304837\n",
      "8   1526682\n",
      "9   1527963\n",
      "10   1324878\n",
      "11   1000767\n",
      "12   665500\n",
      "13   389525\n",
      "14   203226\n",
      "15   93784\n",
      "16   38474\n",
      "17   14102\n",
      "18   4782\n",
      "19   1313\n",
      "20   370\n",
      "21   82\n",
      "22   15\n",
      "23   2\n",
      "24   0\n",
      "25   0\n",
      "26   0\n",
      "27   0\n",
      "28   0\n",
      "29   0\n",
      "30   0\n",
      "31   0\n",
      "32   0\n",
      "33   0\n",
      "34   0\n"
     ]
    }
   ],
   "source": [
    "import random\n",
    "\n",
    "def Tribute(percent = 25):\n",
    "    counter = 0\n",
    "    for i in range(34):\n",
    "        r = random.randint(0, 100)\n",
    "        if r < (percent + 1):\n",
    "            counter += 1\n",
    "    return(counter)\n",
    "\n",
    "NoK = { 0 : 0,  1 : 0,  2 : 0,  3 : 0,  4 : 0,  5 : 0,  6 : 0,  7 : 0,  8 : 0,  9 : 0,\n",
    "       10 : 0, 11 : 0, 12 : 0, 13 : 0, 14 : 0, 15 : 0, 16 : 0, 17 : 0, 18 : 0, 19 : 0,\n",
    "       20 : 0, 21 : 0, 22 : 0, 23 : 0, 24 : 0, 25 : 0, 26 : 0, 27 : 0, 28 : 0, 29 : 0,\n",
    "       30 : 0, 31 : 0, 32 : 0, 33 : 0, 34 : 0}\n",
    "\n",
    "for i in range(10000000):\n",
    "    T = Tribute()\n",
    "    NoK[T] += 1\n",
    "\n",
    "for key, val in NoK.items():\n",
    "    print(key, \" \", val)\n",
    "    "
   ]
  },
  {
   "cell_type": "code",
   "execution_count": null,
   "metadata": {},
   "outputs": [],
   "source": []
  }
 ],
 "metadata": {
  "kernelspec": {
   "display_name": "Python 3",
   "language": "python",
   "name": "python3"
  },
  "language_info": {
   "codemirror_mode": {
    "name": "ipython",
    "version": 3
   },
   "file_extension": ".py",
   "mimetype": "text/x-python",
   "name": "python",
   "nbconvert_exporter": "python",
   "pygments_lexer": "ipython3",
   "version": "3.6.8"
  }
 },
 "nbformat": 4,
 "nbformat_minor": 2
}
